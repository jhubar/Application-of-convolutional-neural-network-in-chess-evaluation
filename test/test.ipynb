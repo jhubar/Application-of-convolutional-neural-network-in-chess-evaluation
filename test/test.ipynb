import chess
import chess.svg

# from IPython.display import SVG

board = chess.Board()
image = chess.svg.board(board=board,size=400)

f = open("test.svg", "w")
f.write(image)
f.close()
