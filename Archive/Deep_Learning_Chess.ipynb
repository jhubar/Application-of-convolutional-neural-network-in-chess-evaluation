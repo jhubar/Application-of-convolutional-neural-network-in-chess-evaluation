{
  "nbformat": 4,
  "nbformat_minor": 0,
  "metadata": {
    "colab": {
      "name": "Deep Learning Chess.ipynb",
      "provenance": [],
      "collapsed_sections": [],
      "toc_visible": true
    },
    "kernelspec": {
      "name": "python3",
      "display_name": "Python 3"
    }
  },
  "cells": [
    {
      "cell_type": "code",
      "metadata": {
        "id": "b6-rCwT5ygGH",
        "colab_type": "code",
        "colab": {
          "base_uri": "https://localhost:8080/",
          "height": 54
        },
        "outputId": "9bf5f8f5-a2b1-44c5-addd-5453265d2f08"
      },
      "source": [
        "!pip install python-chess~=0.26\n",
        "\n",
        "\n",
        "\n",
        "\n",
        "\n"
      ],
      "execution_count": 19,
      "outputs": [
        {
          "output_type": "stream",
          "text": [
            "Requirement already satisfied: python-chess~=0.26 in /usr/local/lib/python3.6/dist-packages (0.30.1)\n"
          ],
          "name": "stdout"
        }
      ]
    },
    {
      "cell_type": "code",
      "metadata": {
        "id": "PyXGhhQ-Ivcy",
        "colab_type": "code",
        "colab": {
          "base_uri": "https://localhost:8080/",
          "height": 714
        },
        "outputId": "96f91005-d1a0-497a-8a54-eb44809413fa"
      },
      "source": [
        "!pip install livelossplot==0.3.4\n"
      ],
      "execution_count": 20,
      "outputs": [
        {
          "output_type": "stream",
          "text": [
            "Requirement already satisfied: livelossplot==0.3.4 in /usr/local/lib/python3.6/dist-packages (0.3.4)\n",
            "Requirement already satisfied: matplotlib in /usr/local/lib/python3.6/dist-packages (from livelossplot==0.3.4) (3.2.1)\n",
            "Requirement already satisfied: notebook in /usr/local/lib/python3.6/dist-packages (from livelossplot==0.3.4) (5.2.2)\n",
            "Requirement already satisfied: python-dateutil>=2.1 in /usr/local/lib/python3.6/dist-packages (from matplotlib->livelossplot==0.3.4) (2.8.1)\n",
            "Requirement already satisfied: numpy>=1.11 in /usr/local/lib/python3.6/dist-packages (from matplotlib->livelossplot==0.3.4) (1.18.2)\n",
            "Requirement already satisfied: kiwisolver>=1.0.1 in /usr/local/lib/python3.6/dist-packages (from matplotlib->livelossplot==0.3.4) (1.2.0)\n",
            "Requirement already satisfied: cycler>=0.10 in /usr/local/lib/python3.6/dist-packages (from matplotlib->livelossplot==0.3.4) (0.10.0)\n",
            "Requirement already satisfied: pyparsing!=2.0.4,!=2.1.2,!=2.1.6,>=2.0.1 in /usr/local/lib/python3.6/dist-packages (from matplotlib->livelossplot==0.3.4) (2.4.7)\n",
            "Requirement already satisfied: nbconvert in /usr/local/lib/python3.6/dist-packages (from notebook->livelossplot==0.3.4) (5.6.1)\n",
            "Requirement already satisfied: jupyter-client in /usr/local/lib/python3.6/dist-packages (from notebook->livelossplot==0.3.4) (5.3.4)\n",
            "Requirement already satisfied: terminado>=0.3.3; sys_platform != \"win32\" in /usr/local/lib/python3.6/dist-packages (from notebook->livelossplot==0.3.4) (0.8.3)\n",
            "Requirement already satisfied: tornado>=4 in /usr/local/lib/python3.6/dist-packages (from notebook->livelossplot==0.3.4) (4.5.3)\n",
            "Requirement already satisfied: jupyter-core in /usr/local/lib/python3.6/dist-packages (from notebook->livelossplot==0.3.4) (4.6.3)\n",
            "Requirement already satisfied: jinja2 in /usr/local/lib/python3.6/dist-packages (from notebook->livelossplot==0.3.4) (2.11.1)\n",
            "Requirement already satisfied: nbformat in /usr/local/lib/python3.6/dist-packages (from notebook->livelossplot==0.3.4) (5.0.5)\n",
            "Requirement already satisfied: traitlets>=4.2.1 in /usr/local/lib/python3.6/dist-packages (from notebook->livelossplot==0.3.4) (4.3.3)\n",
            "Requirement already satisfied: ipykernel in /usr/local/lib/python3.6/dist-packages (from notebook->livelossplot==0.3.4) (4.10.1)\n",
            "Requirement already satisfied: ipython-genutils in /usr/local/lib/python3.6/dist-packages (from notebook->livelossplot==0.3.4) (0.2.0)\n",
            "Requirement already satisfied: six>=1.5 in /usr/local/lib/python3.6/dist-packages (from python-dateutil>=2.1->matplotlib->livelossplot==0.3.4) (1.12.0)\n",
            "Requirement already satisfied: mistune<2,>=0.8.1 in /usr/local/lib/python3.6/dist-packages (from nbconvert->notebook->livelossplot==0.3.4) (0.8.4)\n",
            "Requirement already satisfied: entrypoints>=0.2.2 in /usr/local/lib/python3.6/dist-packages (from nbconvert->notebook->livelossplot==0.3.4) (0.3)\n",
            "Requirement already satisfied: defusedxml in /usr/local/lib/python3.6/dist-packages (from nbconvert->notebook->livelossplot==0.3.4) (0.6.0)\n",
            "Requirement already satisfied: pandocfilters>=1.4.1 in /usr/local/lib/python3.6/dist-packages (from nbconvert->notebook->livelossplot==0.3.4) (1.4.2)\n",
            "Requirement already satisfied: testpath in /usr/local/lib/python3.6/dist-packages (from nbconvert->notebook->livelossplot==0.3.4) (0.4.4)\n",
            "Requirement already satisfied: pygments in /usr/local/lib/python3.6/dist-packages (from nbconvert->notebook->livelossplot==0.3.4) (2.1.3)\n",
            "Requirement already satisfied: bleach in /usr/local/lib/python3.6/dist-packages (from nbconvert->notebook->livelossplot==0.3.4) (3.1.4)\n",
            "Requirement already satisfied: pyzmq>=13 in /usr/local/lib/python3.6/dist-packages (from jupyter-client->notebook->livelossplot==0.3.4) (19.0.0)\n",
            "Requirement already satisfied: ptyprocess; os_name != \"nt\" in /usr/local/lib/python3.6/dist-packages (from terminado>=0.3.3; sys_platform != \"win32\"->notebook->livelossplot==0.3.4) (0.6.0)\n",
            "Requirement already satisfied: MarkupSafe>=0.23 in /usr/local/lib/python3.6/dist-packages (from jinja2->notebook->livelossplot==0.3.4) (1.1.1)\n",
            "Requirement already satisfied: jsonschema!=2.5.0,>=2.4 in /usr/local/lib/python3.6/dist-packages (from nbformat->notebook->livelossplot==0.3.4) (2.6.0)\n",
            "Requirement already satisfied: decorator in /usr/local/lib/python3.6/dist-packages (from traitlets>=4.2.1->notebook->livelossplot==0.3.4) (4.4.2)\n",
            "Requirement already satisfied: ipython>=4.0.0 in /usr/local/lib/python3.6/dist-packages (from ipykernel->notebook->livelossplot==0.3.4) (5.5.0)\n",
            "Requirement already satisfied: webencodings in /usr/local/lib/python3.6/dist-packages (from bleach->nbconvert->notebook->livelossplot==0.3.4) (0.5.1)\n",
            "Requirement already satisfied: setuptools>=18.5 in /usr/local/lib/python3.6/dist-packages (from ipython>=4.0.0->ipykernel->notebook->livelossplot==0.3.4) (46.1.3)\n",
            "Requirement already satisfied: simplegeneric>0.8 in /usr/local/lib/python3.6/dist-packages (from ipython>=4.0.0->ipykernel->notebook->livelossplot==0.3.4) (0.8.1)\n",
            "Requirement already satisfied: pickleshare in /usr/local/lib/python3.6/dist-packages (from ipython>=4.0.0->ipykernel->notebook->livelossplot==0.3.4) (0.7.5)\n",
            "Requirement already satisfied: pexpect; sys_platform != \"win32\" in /usr/local/lib/python3.6/dist-packages (from ipython>=4.0.0->ipykernel->notebook->livelossplot==0.3.4) (4.8.0)\n",
            "Requirement already satisfied: prompt-toolkit<2.0.0,>=1.0.4 in /usr/local/lib/python3.6/dist-packages (from ipython>=4.0.0->ipykernel->notebook->livelossplot==0.3.4) (1.0.18)\n",
            "Requirement already satisfied: wcwidth in /usr/local/lib/python3.6/dist-packages (from prompt-toolkit<2.0.0,>=1.0.4->ipython>=4.0.0->ipykernel->notebook->livelossplot==0.3.4) (0.1.9)\n"
          ],
          "name": "stdout"
        }
      ]
    },
    {
      "cell_type": "code",
      "metadata": {
        "id": "SxSn8OVQIwtg",
        "colab_type": "code",
        "colab": {
          "base_uri": "https://localhost:8080/",
          "height": 454
        },
        "outputId": "8b647ae5-77eb-4077-fc7f-90bcf9aea198"
      },
      "source": [
        "!wget https://www.dropbox.com/sh/75gzfgu7qo94pvh/AACk_w5M94GTwwhSItCqsemoa/Stockfish%205/stockfish-5-linux.zip\n"
      ],
      "execution_count": 21,
      "outputs": [
        {
          "output_type": "stream",
          "text": [
            "--2020-04-15 14:02:05--  https://www.dropbox.com/sh/75gzfgu7qo94pvh/AACk_w5M94GTwwhSItCqsemoa/Stockfish%205/stockfish-5-linux.zip\n",
            "Resolving www.dropbox.com (www.dropbox.com)... 162.125.9.1, 2620:100:601f:1::a27d:901\n",
            "Connecting to www.dropbox.com (www.dropbox.com)|162.125.9.1|:443... connected.\n",
            "HTTP request sent, awaiting response... 301 Moved Permanently\n",
            "Location: /sh/raw/75gzfgu7qo94pvh/AACk_w5M94GTwwhSItCqsemoa/Stockfish%205/stockfish-5-linux.zip [following]\n",
            "--2020-04-15 14:02:05--  https://www.dropbox.com/sh/raw/75gzfgu7qo94pvh/AACk_w5M94GTwwhSItCqsemoa/Stockfish%205/stockfish-5-linux.zip\n",
            "Reusing existing connection to www.dropbox.com:443.\n",
            "HTTP request sent, awaiting response... 302 Found\n",
            "Location: https://uc44c85ad1e617ce657976f47a31.dl.dropboxusercontent.com/cd/0/inline/A16Pxiro0WGHXGchNWpdqJ-POqlNQFq8czCUWKHrD7qLXsuhl6SBMmop6OgbOTsikLC_a_FRsMmL2JRHIB-IavSvf2N3vme9Ky18dFvL577rXQ/file# [following]\n",
            "--2020-04-15 14:02:06--  https://uc44c85ad1e617ce657976f47a31.dl.dropboxusercontent.com/cd/0/inline/A16Pxiro0WGHXGchNWpdqJ-POqlNQFq8czCUWKHrD7qLXsuhl6SBMmop6OgbOTsikLC_a_FRsMmL2JRHIB-IavSvf2N3vme9Ky18dFvL577rXQ/file\n",
            "Resolving uc44c85ad1e617ce657976f47a31.dl.dropboxusercontent.com (uc44c85ad1e617ce657976f47a31.dl.dropboxusercontent.com)... 162.125.9.6, 2620:100:601f:6::a27d:906\n",
            "Connecting to uc44c85ad1e617ce657976f47a31.dl.dropboxusercontent.com (uc44c85ad1e617ce657976f47a31.dl.dropboxusercontent.com)|162.125.9.6|:443... connected.\n",
            "HTTP request sent, awaiting response... 302 FOUND\n",
            "Location: /cd/0/inline2/A17--gP2TjG7KKmsP6vz916QcDmf7COwElx8pDf5IjBtoxIf_TA7PPHpnYE5svCpaLZZo5VqBhrq8SsY1IQNH7cR58DTXP4aVKom3lO8Q6hcbmDNFuLJ1Rjl97nT3MlycBoo2fodGscW9-9e4jHpw9OV291AkMFQ3Qankjbqi0WXEGVLnIDnedyexehE-TdXfn9uQiapXr93KtbiarXB7qPYxsbjXkDDu4CIaOXy5fsulRTkWPJtd77Rf-vxhPB_xtUBMBPmv8LjiwvqlWPakvtkMTUunNpAK0kQhDXvrQmb8DjPv5Q6r3tnOZ5WBnsULHu6o6MJUQRQVGOxVJBK8SA-/file [following]\n",
            "--2020-04-15 14:02:06--  https://uc44c85ad1e617ce657976f47a31.dl.dropboxusercontent.com/cd/0/inline2/A17--gP2TjG7KKmsP6vz916QcDmf7COwElx8pDf5IjBtoxIf_TA7PPHpnYE5svCpaLZZo5VqBhrq8SsY1IQNH7cR58DTXP4aVKom3lO8Q6hcbmDNFuLJ1Rjl97nT3MlycBoo2fodGscW9-9e4jHpw9OV291AkMFQ3Qankjbqi0WXEGVLnIDnedyexehE-TdXfn9uQiapXr93KtbiarXB7qPYxsbjXkDDu4CIaOXy5fsulRTkWPJtd77Rf-vxhPB_xtUBMBPmv8LjiwvqlWPakvtkMTUunNpAK0kQhDXvrQmb8DjPv5Q6r3tnOZ5WBnsULHu6o6MJUQRQVGOxVJBK8SA-/file\n",
            "Reusing existing connection to uc44c85ad1e617ce657976f47a31.dl.dropboxusercontent.com:443.\n",
            "HTTP request sent, awaiting response... 200 OK\n",
            "Length: 594229 (580K) [application/zip]\n",
            "Saving to: ‘stockfish-5-linux.zip.1’\n",
            "\n",
            "stockfish-5-linux.z 100%[===================>] 580.30K  --.-KB/s    in 0.08s   \n",
            "\n",
            "2020-04-15 14:02:07 (6.81 MB/s) - ‘stockfish-5-linux.zip.1’ saved [594229/594229]\n",
            "\n"
          ],
          "name": "stdout"
        }
      ]
    },
    {
      "cell_type": "code",
      "metadata": {
        "id": "f3OKedzWIx1H",
        "colab_type": "code",
        "colab": {
          "base_uri": "https://localhost:8080/",
          "height": 1000
        },
        "outputId": "5047a23b-dca0-4059-a8ff-6cafe65dd2ac"
      },
      "source": [
        "!unzip stockfish-5-linux.zip\n"
      ],
      "execution_count": 22,
      "outputs": [
        {
          "output_type": "stream",
          "text": [
            "Archive:  stockfish-5-linux.zip\n",
            "replace stockfish-5-linux/Readme.md? [y]es, [n]o, [A]ll, [N]one, [r]ename: y\n",
            "  inflating: stockfish-5-linux/Readme.md  \n",
            "replace stockfish-5-linux/polyglot.ini? [y]es, [n]o, [A]ll, [N]one, [r]ename: a\n",
            "error:  invalid response [a]\n",
            "replace stockfish-5-linux/polyglot.ini? [y]es, [n]o, [A]ll, [N]one, [r]ename: A\n",
            "  inflating: stockfish-5-linux/polyglot.ini  \n",
            "  inflating: stockfish-5-linux/logo.bmp  \n",
            "  inflating: stockfish-5-linux/Copying.txt  \n",
            "  inflating: stockfish-5-linux/src_c++11/ucioption.h  \n",
            "  inflating: stockfish-5-linux/src_c++11/ucioption.cpp  \n",
            "  inflating: stockfish-5-linux/src_c++11/uci.cpp  \n",
            "  inflating: stockfish-5-linux/src_c++11/types.h  \n",
            "  inflating: stockfish-5-linux/src_c++11/tt.h  \n",
            "  inflating: stockfish-5-linux/src_c++11/tt.cpp  \n",
            "  inflating: stockfish-5-linux/src_c++11/timeman.h  \n",
            "  inflating: stockfish-5-linux/src_c++11/timeman.cpp  \n",
            "  inflating: stockfish-5-linux/src_c++11/thread.h  \n",
            "  inflating: stockfish-5-linux/src_c++11/thread.cpp  \n",
            "  inflating: stockfish-5-linux/src_c++11/search.h  \n",
            "  inflating: stockfish-5-linux/src_c++11/search.cpp  \n",
            "  inflating: stockfish-5-linux/src_c++11/rkiss.h  \n",
            "  inflating: stockfish-5-linux/src_c++11/psqtab.h  \n",
            "  inflating: stockfish-5-linux/src_c++11/position.h  \n",
            "  inflating: stockfish-5-linux/src_c++11/position.cpp  \n",
            "  inflating: stockfish-5-linux/src_c++11/pawns.h  \n",
            "  inflating: stockfish-5-linux/src_c++11/pawns.cpp  \n",
            "  inflating: stockfish-5-linux/src_c++11/notation.h  \n",
            "  inflating: stockfish-5-linux/src_c++11/notation.cpp  \n",
            "  inflating: stockfish-5-linux/src_c++11/movepick.h  \n",
            "  inflating: stockfish-5-linux/src_c++11/movepick.cpp  \n",
            "  inflating: stockfish-5-linux/src_c++11/movegen.h  \n",
            "  inflating: stockfish-5-linux/src_c++11/movegen.cpp  \n",
            "  inflating: stockfish-5-linux/src_c++11/misc.h  \n",
            "  inflating: stockfish-5-linux/src_c++11/misc.cpp  \n",
            "  inflating: stockfish-5-linux/src_c++11/material.h  \n",
            "  inflating: stockfish-5-linux/src_c++11/material.cpp  \n",
            "  inflating: stockfish-5-linux/src_c++11/Makefile  \n",
            "  inflating: stockfish-5-linux/src_c++11/main.cpp  \n",
            "  inflating: stockfish-5-linux/src_c++11/evaluate.h  \n",
            "  inflating: stockfish-5-linux/src_c++11/evaluate.cpp  \n",
            "  inflating: stockfish-5-linux/src_c++11/endgame.h  \n",
            "  inflating: stockfish-5-linux/src_c++11/endgame.cpp  \n",
            "  inflating: stockfish-5-linux/src_c++11/book.h  \n",
            "  inflating: stockfish-5-linux/src_c++11/book.cpp  \n",
            "  inflating: stockfish-5-linux/src_c++11/bitcount.h  \n",
            "  inflating: stockfish-5-linux/src_c++11/bitboard.h  \n",
            "  inflating: stockfish-5-linux/src_c++11/bitboard.cpp  \n",
            "  inflating: stockfish-5-linux/src_c++11/bitbase.cpp  \n",
            "  inflating: stockfish-5-linux/src_c++11/benchmark.cpp  \n",
            "  inflating: stockfish-5-linux/src/ucioption.h  \n",
            "  inflating: stockfish-5-linux/src/ucioption.cpp  \n",
            "  inflating: stockfish-5-linux/src/uci.cpp  \n",
            "  inflating: stockfish-5-linux/src/types.h  \n",
            "  inflating: stockfish-5-linux/src/tt.h  \n",
            "  inflating: stockfish-5-linux/src/tt.cpp  \n",
            "  inflating: stockfish-5-linux/src/timeman.h  \n",
            "  inflating: stockfish-5-linux/src/timeman.cpp  \n",
            "  inflating: stockfish-5-linux/src/thread.h  \n",
            "  inflating: stockfish-5-linux/src/thread.cpp  \n",
            "  inflating: stockfish-5-linux/src/search.h  \n",
            "  inflating: stockfish-5-linux/src/search.cpp  \n",
            "  inflating: stockfish-5-linux/src/rkiss.h  \n",
            "  inflating: stockfish-5-linux/src/psqtab.h  \n",
            "  inflating: stockfish-5-linux/src/position.h  \n",
            "  inflating: stockfish-5-linux/src/position.cpp  \n",
            "  inflating: stockfish-5-linux/src/platform.h  \n",
            "  inflating: stockfish-5-linux/src/pawns.h  \n",
            "  inflating: stockfish-5-linux/src/pawns.cpp  \n",
            "  inflating: stockfish-5-linux/src/notation.h  \n",
            "  inflating: stockfish-5-linux/src/notation.cpp  \n",
            "  inflating: stockfish-5-linux/src/movepick.h  \n",
            "  inflating: stockfish-5-linux/src/movepick.cpp  \n",
            "  inflating: stockfish-5-linux/src/movegen.h  \n",
            "  inflating: stockfish-5-linux/src/movegen.cpp  \n",
            "  inflating: stockfish-5-linux/src/misc.h  \n",
            "  inflating: stockfish-5-linux/src/misc.cpp  \n",
            "  inflating: stockfish-5-linux/src/material.h  \n",
            "  inflating: stockfish-5-linux/src/material.cpp  \n",
            "  inflating: stockfish-5-linux/src/Makefile  \n",
            "  inflating: stockfish-5-linux/src/main.cpp  \n",
            "  inflating: stockfish-5-linux/src/evaluate.h  \n",
            "  inflating: stockfish-5-linux/src/evaluate.cpp  \n",
            "  inflating: stockfish-5-linux/src/endgame.h  \n",
            "  inflating: stockfish-5-linux/src/endgame.cpp  \n",
            "  inflating: stockfish-5-linux/src/book.h  \n",
            "  inflating: stockfish-5-linux/src/book.cpp  \n",
            "  inflating: stockfish-5-linux/src/bitcount.h  \n",
            "  inflating: stockfish-5-linux/src/bitboard.h  \n",
            "  inflating: stockfish-5-linux/src/bitboard.cpp  \n",
            "  inflating: stockfish-5-linux/src/bitbase.cpp  \n",
            "  inflating: stockfish-5-linux/src/benchmark.cpp  \n",
            "  inflating: stockfish-5-linux/Linux/stockfish_14053109_x64_modern  \n",
            "  inflating: stockfish-5-linux/Linux/stockfish_14053109_x64  \n"
          ],
          "name": "stdout"
        }
      ]
    },
    {
      "cell_type": "code",
      "metadata": {
        "id": "4MyklLf7Iy8O",
        "colab_type": "code",
        "colab": {}
      },
      "source": [
        "!chmod +x stockfish-5-linux/Linux/stockfish_14053109_x64\n"
      ],
      "execution_count": 0,
      "outputs": []
    },
    {
      "cell_type": "code",
      "metadata": {
        "id": "jmVn2_ZwIoF4",
        "colab_type": "code",
        "colab": {}
      },
      "source": [
        "import torch\n",
        "import pickle\n",
        "\n",
        "import chess\n",
        "import chess.pgn\n",
        "import chess.engine\n",
        "\n",
        "from tqdm import tqdm\n",
        "\n",
        "from AIChess import evaluate\n",
        "from DeepChess import boardToTensor\n",
        "\n",
        "STOCKFISH_PATH = \"stockfish\"\n",
        "STOCKFISH_PATH = \".\\stockfish-5-linux/Linux/stockfish_14053109_x64\""
      ],
      "execution_count": 0,
      "outputs": []
    },
    {
      "cell_type": "markdown",
      "metadata": {
        "id": "hQS2ZE5Z6RB4",
        "colab_type": "text"
      },
      "source": [
        "# Nouvelle section"
      ]
    },
    {
      "cell_type": "code",
      "metadata": {
        "id": "wHTtPwUv8ULP",
        "colab_type": "code",
        "colab": {}
      },
      "source": [
        "\n",
        "def loadData():\n",
        "    \"\"\"\n",
        "    Loads the data from a pgn file\n",
        "    \"\"\"\n",
        "\n",
        "    filePath = \"ficsgamesdb_201901_CvC_nomovetimes_120511.pgn\" # smaller dataset !!\n",
        "    #filePath = \"ficsgamesdb_2019_chess_nomovetimes_124014.pgn\" # dataset of all games from FICS in 2019 !!\n",
        "\n",
        "    with open(filePath) as pgn:\n",
        "        nbGames = len(pgn.readlines()) // 22 # nb de lignes que prend un jeu (header + moves + blancs autour de moves) !!\n",
        "\n",
        "        print(\"{} games found\\n\".format(nbGames))\n",
        "\n",
        "        pgn.seek(0)\n",
        "\n",
        "        games = []\n",
        "        nbStates = 0\n",
        "\n",
        "        game = chess.pgn.read_game(pgn)\n",
        "\n",
        "        for i in tqdm(range(nbGames // 100), desc=\"Parsing games\", unit=\"game\"):\n",
        "            games.append(game)\n",
        "\n",
        "            nbStates += int(game.headers['PlyCount'])\n",
        "\n",
        "            game = chess.pgn.read_game(pgn)\n",
        "\n",
        "    print(\"Completed. {} games have been parsed\\n\".format(len(games)))\n",
        "\n",
        "    X = []\n",
        "    y = []\n",
        "\n",
        "    engine = chess.engine.SimpleEngine.popen_uci(STOCKFISH_PATH)\n",
        "\n",
        "    for game in tqdm(games, desc=\"Generating states\", unit=\"game\"):\n",
        "\n",
        "        node = game.end()\n",
        "\n",
        "        while node.parent is not None:\n",
        "            position = node.board()\n",
        "            tensor = boardToTensor(position)\n",
        "\n",
        "            output = engine.analyse(position, chess.engine.Limit(time=0.001, depth =  0))['score']\n",
        "\n",
        "            # output = evaluate(position) # stockfish to plug here\n",
        "\n",
        "            X.append(tensor)\n",
        "            y.append(output)\n",
        "\n",
        "            node = node.parent\n",
        "\n",
        "    print(\"Completed. {} states have been generated\\n\".format(len(X)))\n",
        "\n",
        "    return X, y\n",
        "\n",
        "def save(obj, filePath):\n",
        "    with open(filePath, \"wb\") as file:\n",
        "        pickle.dump(obj, file)\n",
        "\n",
        "def load(filePath):\n",
        "    with open(filePath, \"rb\") as file:\n",
        "        return pickle.load(file)"
      ],
      "execution_count": 0,
      "outputs": []
    },
    {
      "cell_type": "code",
      "metadata": {
        "id": "Jmo7b2QMzEZv",
        "colab_type": "code",
        "colab": {
          "base_uri": "https://localhost:8080/",
          "height": 535
        },
        "outputId": "b33c6238-9776-4cfc-ca45-5136b6641ce6"
      },
      "source": [
        "\n",
        "if __name__ == \"__main__\":\n",
        "\n",
        "    print(\"############################################################\")\n",
        "    print(\"#################### GENERATING DATASET ####################\")\n",
        "    print(\"############################################################\\n\")\n",
        "\n",
        "    X, y = loadData()\n",
        "\n",
        "    print(\"############################################################\")\n",
        "    print(\"#################### SAVING DATASET ########################\")\n",
        "    print(\"############################################################\\n\")\n",
        "    \n",
        "    save(X, \"chessInput\")\n",
        "    save(y, \"chessOutput\")\n",
        "\n",
        "    print(len(load(\"chessOutput\")))\n"
      ],
      "execution_count": 35,
      "outputs": [
        {
          "output_type": "stream",
          "text": [
            "Parsing games: 100%|██████████| 24/24 [00:00<00:00, 184.94game/s]"
          ],
          "name": "stderr"
        },
        {
          "output_type": "stream",
          "text": [
            "############################################################\n",
            "#################### GENERATING DATASET ####################\n",
            "############################################################\n",
            "\n",
            "2495 games found\n",
            "\n",
            "Completed. 24 games have been parsed\n",
            "\n"
          ],
          "name": "stdout"
        },
        {
          "output_type": "stream",
          "text": [
            "\n"
          ],
          "name": "stderr"
        },
        {
          "output_type": "error",
          "ename": "AttributeError",
          "evalue": "ignored",
          "traceback": [
            "\u001b[0;31m---------------------------------------------------------------------------\u001b[0m",
            "\u001b[0;31mAttributeError\u001b[0m                            Traceback (most recent call last)",
            "\u001b[0;32m<ipython-input-35-5f4801bfab4b>\u001b[0m in \u001b[0;36m<module>\u001b[0;34m()\u001b[0m\n\u001b[1;32m      6\u001b[0m     \u001b[0mprint\u001b[0m\u001b[0;34m(\u001b[0m\u001b[0;34m\"############################################################\\n\"\u001b[0m\u001b[0;34m)\u001b[0m\u001b[0;34m\u001b[0m\u001b[0;34m\u001b[0m\u001b[0m\n\u001b[1;32m      7\u001b[0m \u001b[0;34m\u001b[0m\u001b[0m\n\u001b[0;32m----> 8\u001b[0;31m     \u001b[0mX\u001b[0m\u001b[0;34m,\u001b[0m \u001b[0my\u001b[0m \u001b[0;34m=\u001b[0m \u001b[0mloadData\u001b[0m\u001b[0;34m(\u001b[0m\u001b[0;34m)\u001b[0m\u001b[0;34m\u001b[0m\u001b[0;34m\u001b[0m\u001b[0m\n\u001b[0m\u001b[1;32m      9\u001b[0m \u001b[0;34m\u001b[0m\u001b[0m\n\u001b[1;32m     10\u001b[0m     \u001b[0mprint\u001b[0m\u001b[0;34m(\u001b[0m\u001b[0;34m\"############################################################\"\u001b[0m\u001b[0;34m)\u001b[0m\u001b[0;34m\u001b[0m\u001b[0;34m\u001b[0m\u001b[0m\n",
            "\u001b[0;32m<ipython-input-34-1ec467090a9f>\u001b[0m in \u001b[0;36mloadData\u001b[0;34m()\u001b[0m\n\u001b[1;32m     32\u001b[0m     \u001b[0my\u001b[0m \u001b[0;34m=\u001b[0m \u001b[0;34m[\u001b[0m\u001b[0;34m]\u001b[0m\u001b[0;34m\u001b[0m\u001b[0;34m\u001b[0m\u001b[0m\n\u001b[1;32m     33\u001b[0m \u001b[0;34m\u001b[0m\u001b[0m\n\u001b[0;32m---> 34\u001b[0;31m     \u001b[0mengine\u001b[0m \u001b[0;34m=\u001b[0m \u001b[0mchess\u001b[0m\u001b[0;34m.\u001b[0m\u001b[0mengine\u001b[0m\u001b[0;34m.\u001b[0m\u001b[0mSimpleEngine\u001b[0m\u001b[0;34m.\u001b[0m\u001b[0mpopen_uci\u001b[0m\u001b[0;34m(\u001b[0m\u001b[0mSTOCKFISH_PATH\u001b[0m\u001b[0;34m)\u001b[0m\u001b[0;34m\u001b[0m\u001b[0;34m\u001b[0m\u001b[0m\n\u001b[0m\u001b[1;32m     35\u001b[0m \u001b[0;34m\u001b[0m\u001b[0m\n\u001b[1;32m     36\u001b[0m     \u001b[0;32mfor\u001b[0m \u001b[0mgame\u001b[0m \u001b[0;32min\u001b[0m \u001b[0mtqdm\u001b[0m\u001b[0;34m(\u001b[0m\u001b[0mgames\u001b[0m\u001b[0;34m,\u001b[0m \u001b[0mdesc\u001b[0m\u001b[0;34m=\u001b[0m\u001b[0;34m\"Generating states\"\u001b[0m\u001b[0;34m,\u001b[0m \u001b[0munit\u001b[0m\u001b[0;34m=\u001b[0m\u001b[0;34m\"game\"\u001b[0m\u001b[0;34m)\u001b[0m\u001b[0;34m:\u001b[0m\u001b[0;34m\u001b[0m\u001b[0;34m\u001b[0m\u001b[0m\n",
            "\u001b[0;31mAttributeError\u001b[0m: module 'chess.engine' has no attribute 'SimpleEngine'"
          ]
        }
      ]
    }
  ]
}